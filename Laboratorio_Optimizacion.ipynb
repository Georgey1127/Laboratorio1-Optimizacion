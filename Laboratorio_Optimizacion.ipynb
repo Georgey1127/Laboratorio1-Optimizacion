{
  "cells": [
    {
      "cell_type": "markdown",
      "source": [
        "Integrantes: Jaime Vergara, Robin Restrepo y Jorge Bolívar"
      ],
      "metadata": {
        "id": "aeLHa3Nc9aBx"
      }
    },
    {
      "cell_type": "markdown",
      "metadata": {
        "id": "Uefaf0yXCa73"
      },
      "source": [
        "# Problema:\n",
        "Una compañía fabrica dos tipos de productos, A y B. Cada producto A genera una ganancia de 20 unidades monetarias, mientras que cada producto B genera una ganancia de 30 unidades monetarias. Para fabricar un producto A se requieren 2 horas de trabajo y 3 unidades de materia prima. Para fabricar un producto B se necesitan 4 horas de trabajo y 2 unidades de materia prima.\n",
        "La compañía dispone de un total de 100 horas de trabajo y 80 unidades de materia prima. ¿Cuántas unidades de cada producto debe fabricar la compañía para maximizar su ganancia?\n",
        "Formulación del problema:\n",
        "Definamos las variables:\n",
        "\tx: número de productos A que se deben fabricar.\n",
        "\ty: número de productos B que se deben fabricar.\n",
        "Función objetivo (maximizar):\n",
        "z=20x+30y\n",
        "donde z es la ganancia total.\n",
        "\n",
        "Restricciones:\n",
        "\t2x+4y≤100  (limitación por horas de trabajo).\n",
        "\t3x+2y≤80 (limitación por unidades de materia prima).\n",
        "\tx≥0,  y≥0  (no puede haber productos negativos).\n",
        "Tu objetivo es maximizar z sujeto a estas restricciones.\n"
      ]
    },
    {
      "cell_type": "markdown",
      "metadata": {
        "id": "dby3Dga9C9R-"
      },
      "source": [
        "#Region Factible:"
      ]
    },
    {
      "cell_type": "code",
      "execution_count": 29,
      "metadata": {
        "colab": {
          "base_uri": "https://localhost:8080/",
          "height": 574
        },
        "id": "qtK3GEloq1wj",
        "outputId": "ae0b5089-9820-4ca9-ef27-4ca860659e59"
      },
      "outputs": [
        {
          "output_type": "display_data",
          "data": {
            "text/plain": [
              "<Figure size 640x480 with 1 Axes>"
            ],
            "image/png": "[encoded data removed]"
          },
          "metadata": {}
        },
        {
          "output_type": "stream",
          "name": "stdout",
          "text": [
            "Puntos de intersección:\n",
            "{x: 15, y: 35/2} {x: 50, y: 0} {x: 80/3, y: 0}\n",
            "Ganancia en el punto {x: 15, y: 35/2}: 825\n",
            "Ganancia en el punto {x: 50, y: 0}: 1000\n",
            "Ganancia en el punto {x: 80/3, y: 0}: 1600/3\n"
          ]
        }
      ],
      "source": [
        "import sympy as sp\n",
        "from sympy.plotting import plot_implicit  # Importa plot_implicit\n",
        "\n",
        "# Se Definen las variables\n",
        "x, y = sp.symbols('x y')\n",
        "\n",
        "# Se ponen las restricciones\n",
        "constraint_1 = 2*x + 4*y <= 100\n",
        "constraint_2 = 3*x + 2*y <= 80\n",
        "\n",
        "# Se grafica la región factible\n",
        "plot_implicit(sp.And(constraint_1, constraint_2, x >= 0, y >= 0), (x, 0, 50), (y, 0, 50))\n",
        "\n",
        "# Se resuelve el sistema de ecuaciones para encontrar puntos de intersección\n",
        "eq1 = sp.Eq(2*x + 4*y, 100)\n",
        "eq2 = sp.Eq(3*x + 2*y, 80)\n",
        "\n",
        "# Las soluciones\n",
        "solution_1 = sp.solve([eq1, eq2], (x, y))  # Punto de intersección de las dos restricciones\n",
        "solution_2 = sp.solve([eq1, y], (x, y))    # Intersección de eq1 con el eje x o y\n",
        "solution_3 = sp.solve([eq2, y], (x, y))    # Intersección de eq2 con el eje x o y\n",
        "\n",
        "print(\"Puntos de intersección:\")\n",
        "print(solution_1, solution_2, solution_3)\n",
        "\n",
        "# Se evalua la funcion objetico en estos puntos para encontrar el valor máximo.\n",
        "z = 20*x + 30*y\n",
        "\n",
        "# Se evalua z en cada punto de intersección\n",
        "points = [solution_1, solution_2, solution_3]\n",
        "for point in points:\n",
        "    z_val = z.subs(point)\n",
        "    print(f\"Ganancia en el punto {point}: {z_val}\")\n"
      ]
    },
    {
      "cell_type": "markdown",
      "metadata": {
        "id": "X2_ggcSFLfSY"
      },
      "source": [
        "2.\tSelecciona un método de representación de matrices sparse e impleméntalo en Python desde cero. Compara tus resultados con la función de las librerías de Python."
      ]
    },
    {
      "cell_type": "code",
      "execution_count": 28,
      "metadata": {
        "id": "SwAF_eJbLfSY",
        "colab": {
          "base_uri": "https://localhost:8080/"
        },
        "outputId": "d3b6134e-e64e-48a2-cacf-e2477f7d4513"
      },
      "outputs": [
        {
          "output_type": "stream",
          "name": "stdout",
          "text": [
            "-------------------\n",
            "Data: [1, 2, 3, 4, 5]\n",
            "Indices: [0, 2, 1, 0, 2]\n",
            "Indptr: [0, 2, 3, 5]\n",
            "-------------------\n",
            "Data: [1 2 3 4 5]\n",
            "Indices: [0 2 1 0 2]\n",
            "Indptr: [0 2 3 5]\n"
          ]
        }
      ],
      "source": [
        "import numpy as np\n",
        "from scipy.sparse import csr_matrix\n",
        "\n",
        "class SparseMatrix:\n",
        "    def __init__(self, rows, cols):\n",
        "        self.rows = rows\n",
        "        self.cols = cols\n",
        "        self.data = []\n",
        "        self.indices = []\n",
        "        self.indptr = [0]\n",
        "\n",
        "    def add_element(self, row, col, value):\n",
        "        # Se añade el valor y columna correspondiente\n",
        "        self.data.append(value)\n",
        "        self.indices.append(col)\n",
        "\n",
        "        # Se verifica si se esta añadiendo un elemento en una nueva fila\n",
        "        if row >= len(self.indptr) - 1:\n",
        "            # Si es una nueva fila, extiende indptr hasta esa fila\n",
        "            self.indptr.extend([len(self.data)] * (row - len(self.indptr) + 2))\n",
        "        else:\n",
        "            # Si la fila ya existe, actualiza los punteros de las filas posteriores\n",
        "            for i in range(row + 1, len(self.indptr)):\n",
        "                self.indptr[i] += 1\n",
        "\n",
        "\n",
        "    def to_csr_matrix(self):\n",
        "        return self.data, self.indices, self.indptr\n",
        "\n",
        "# Ejemplos de uso\n",
        "matrix = SparseMatrix(3, 3)\n",
        "matrix.add_element(0, 0, 1)\n",
        "matrix.add_element(0, 2, 2)\n",
        "matrix.add_element(1, 1, 3)\n",
        "matrix.add_element(2, 0, 4)\n",
        "matrix.add_element(2, 2, 5)\n",
        "\n",
        "data, indices, indptr = matrix.to_csr_matrix()\n",
        "print(\"-------------------\")\n",
        "print(\"Data:\", data)\n",
        "print(\"Indices:\", indices)\n",
        "print(\"Indptr:\", indptr)\n",
        "print(\"-------------------\")\n",
        "\n",
        "# Se crea la matriz densa\n",
        "dense_matrix = np.array([\n",
        "    [1, 0, 2],\n",
        "    [0, 3, 0],\n",
        "    [4, 0, 5]\n",
        "])\n",
        "\n",
        "# Se convierte la matriz densa a una matriz CSR\n",
        "sparse_matrix = csr_matrix(dense_matrix)\n",
        "\n",
        "# Se extraen los arreglos de datos, índices e indptr\n",
        "data = sparse_matrix.data\n",
        "indices = sparse_matrix.indices\n",
        "indptr = sparse_matrix.indptr\n",
        "\n",
        "print(\"Data:\", data)\n",
        "print(\"Indices:\", indices)\n",
        "print(\"Indptr:\", indptr)"
      ]
    },
    {
      "cell_type": "markdown",
      "metadata": {
        "id": "IqBQ_DRnLfSZ"
      },
      "source": [
        "3.\tCrea un programa para implementar la expansión en series de Taylor. El usuario debe ingresar la cantidad de términos de la expansión, el punto de expansión y la función a representar (debe tener al menos 5 funciones diferentes para escoger). Se debe mostrar en una gráfica la función original y la aproximación."
      ]
    },
    {
      "cell_type": "code",
      "execution_count": 27,
      "metadata": {
        "colab": {
          "base_uri": "https://localhost:8080/",
          "height": 628
        },
        "id": "qK_yp0enLfSZ",
        "outputId": "7a1c42db-d357-4658-cb36-816f9886e81c"
      },
      "outputs": [
        {
          "name": "stdout",
          "output_type": "stream",
          "text": [
            "Elige una función para aproximar:\n",
            "1: sin(x)\n",
            "2: cos(x)\n",
            "3: exp(x)\n",
            "4: log(1+x)\n",
            "5: tan(x)\n",
            "Introduce el número de tu elección: 1\n",
            "Introduce el número de términos en la expansión de Taylor: 5\n",
            "Introduce el punto de expansión: 0\n"
          ]
        },
        {
          "output_type": "display_data",
          "data": {
            "text/plain": [
              "<Figure size 640x480 with 1 Axes>"
            ],
            "image/png": "[encoded data removed]"
          },
          "metadata": {}
        }
      ],
      "source": [
        "import sympy as sp\n",
        "import numpy as np\n",
        "import matplotlib.pyplot as plt\n",
        "\n",
        "# Se Definen las funciones disponibles para la expansión de Taylor\n",
        "def func_choice(choice):\n",
        "    if choice == 1:\n",
        "        return sp.sin(x), \"sin(x)\"\n",
        "    elif choice == 2:\n",
        "        return sp.cos(x), \"cos(x)\"\n",
        "    elif choice == 3:\n",
        "        return sp.exp(x), \"exp(x)\"\n",
        "    elif choice == 4:\n",
        "        return sp.log(1 + x), \"log(1+x)\"  # Logaritmo natural (válido para x > -1)\n",
        "    elif choice == 5:\n",
        "        return sp.tan(x), \"tan(x)\"\n",
        "    else:\n",
        "        raise ValueError(\"Elección de función inválida\")\n",
        "\n",
        "# Se Obtiene la elección del usuario\n",
        "print(\"Elige una función para aproximar:\")\n",
        "print(\"1: sin(x)\")\n",
        "print(\"2: cos(x)\")\n",
        "print(\"3: exp(x)\")\n",
        "print(\"4: log(1+x)\")\n",
        "print(\"5: tan(x)\")\n",
        "choice = int(input(\"Introduce el número de tu elección: \"))\n",
        "\n",
        "num_terms = int(input(\"Introduce el número de términos en la expansión de Taylor: \"))\n",
        "expansion_point = float(input(\"Introduce el punto de expansión: \"))\n",
        "\n",
        "# Se define la variable y el símbolo de la función\n",
        "x = sp.Symbol('x')\n",
        "f, f_str = func_choice(choice)\n",
        "\n",
        "# Se calcula la aproximación de la serie de Taylor\n",
        "taylor_series = sp.series(f, x, expansion_point, num_terms).removeO()\n",
        "\n",
        "# Se convierte la expresión de sympy a una función de numpy\n",
        "taylor_func = sp.lambdify(x, taylor_series, modules=['numpy'])\n",
        "\n",
        "# Se generan valores de x para la gráfica\n",
        "if choice == 4:\n",
        "    # Se limita el dominio de log(1 + x) para evitar valores menores que -1\n",
        "    x_vals = np.linspace(max(-0.99, expansion_point - np.pi), expansion_point + np.pi, 400)\n",
        "else:\n",
        "    x_vals = np.linspace(expansion_point - np.pi, expansion_point + np.pi, 400)\n",
        "\n",
        "# Se evalua la función original y la aproximación de la serie de Taylor\n",
        "if choice == 1:\n",
        "    y_vals_func = np.sin(x_vals)\n",
        "elif choice == 2:\n",
        "    y_vals_func = np.cos(x_vals)\n",
        "elif choice == 3:\n",
        "    y_vals_func = np.exp(x_vals)\n",
        "elif choice == 4:\n",
        "    y_vals_func = np.log(1 + x_vals)\n",
        "elif choice == 5:\n",
        "    y_vals_func = np.tan(x_vals)\n",
        "\n",
        "y_vals_taylor = taylor_func(x_vals)\n",
        "\n",
        "# Se grafica la función original y la aproximación de la serie de Taylor\n",
        "plt.plot(x_vals, y_vals_func, label=f'Función Original: {f_str}')\n",
        "plt.plot(x_vals, y_vals_taylor, label=f'Aproximación Serie de Taylor ({num_terms} términos)', linestyle='dashed')\n",
        "plt.xlabel('x')\n",
        "plt.ylabel('y')\n",
        "plt.axvline(expansion_point, color='r', linestyle='--', label=f'Punto de expansión: {expansion_point}')\n",
        "plt.legend()\n",
        "plt.title(f'Aproximación de la Serie de Taylor de {f_str}')\n",
        "plt.grid(True)\n",
        "plt.show()\n"
      ]
    },
    {
      "cell_type": "markdown",
      "source": [
        "4.\tEscoge 3 algoritmos de optimización sin restricciones. Realiza cambios sobre sus parámetros y sobre el punto inicial. ¿Cómo afectan estos cambios los resultados? ¿Cómo afecta el tiempo de convergencia o cantidad de iteraciones? Nota: Puedes utilizar las librerías de Python y alguna ayuda gráfica o tabulaciones si lo necesitan para soportar sus conclusiones.\n",
        "\n",
        "# Comparación de Algoritmos de Optimización sin Restricciones\n",
        "\n",
        "## Introducción\n",
        "\n",
        "En este trabajo, comparamos tres algoritmos de optimización sin restricciones utilizando una función cuadrática como ejemplo. Los algoritmos seleccionados son:\n",
        "\n",
        "- **Gradiente Descendente** (Gradient Descent)\n",
        "- **BFGS** (Broyden-Fletcher-Goldfarb-Shanno)\n",
        "- **Nelder-Mead**\n",
        "\n",
        "Usamos la siguiente función cuadrática como nuestro objetivo de minimización:\n",
        "\n",
        "$$f(x) = x_1^2 + x_2^2$$\n",
        "\n",
        "El mínimo global de esta función es en el punto $(0, 0)$.\n"
      ],
      "metadata": {
        "id": "TMsGpn0qNX9a"
      }
    },
    {
      "cell_type": "markdown",
      "source": [
        "## Descripción de los Algoritmos\n",
        "\n",
        "### Gradiente Descendente\n",
        "Este algoritmo sigue la dirección del gradiente de la función, actualizando los parámetros hasta que el valor del gradiente sea lo suficientemente pequeño o una condición de convergencia se cumpla. Se considera altamente sensible al punto inicial y al valor de la tasa de aprendizaje.\n",
        "\n",
        "### BFGS\n",
        "El algoritmo BFGS es un método de cuasi-Newton que no requiere el cálculo explícito de la matriz Hessiana (segunda derivada), sino que la aproxima iterativamente. Esto lo hace eficiente en términos de convergencia, especialmente en comparación con el gradiente descendente.\n",
        "\n",
        "### Nelder-Mead\n",
        "Nelder-Mead es un algoritmo basado en la simplicidad que busca el mínimo evaluando la función objetivo en varios puntos cercanos y ajustando su forma. Es particularmente útil para funciones no diferenciables o ruidosas.\n"
      ],
      "metadata": {
        "id": "bhwVGYI3NZoG"
      }
    },
    {
      "cell_type": "markdown",
      "source": [
        "## Experimentos y Comparación\n",
        "\n",
        "Para realizar la comparación, se probaron tres puntos iniciales diferentes para cada algoritmo:\n",
        "\n",
        "$$x_0 = \\{[10, 10], [5, 5], [1, 1]\\}$$\n",
        "\n",
        "Se evaluaron las siguientes métricas:\n",
        "\n",
        "- **Número de iteraciones**: Cantidad de pasos necesarios para que el algoritmo alcance el mínimo.\n",
        "- **Tiempo de convergencia**: Tiempo total requerido por el algoritmo para converger al mínimo.\n",
        "- **Precisión**: Qué tan cerca del mínimo global $(0, 0)$ llega el algoritmo.\n"
      ],
      "metadata": {
        "id": "dKZOBm9QNcVT"
      }
    },
    {
      "cell_type": "code",
      "execution_count": 26,
      "metadata": {
        "colab": {
          "base_uri": "https://localhost:8080/"
        },
        "id": "2dB4VpLqLfSb",
        "outputId": "c3229683-3744-44a6-e241-134ef24b592d"
      },
      "outputs": [
        {
          "output_type": "stream",
          "name": "stdout",
          "text": [
            "Optimization terminated successfully.\n",
            "         Current function value: 0.000000\n",
            "         Iterations: 1\n",
            "         Function evaluations: 12\n",
            "         Gradient evaluations: 4\n",
            "Optimization terminated successfully.\n",
            "         Current function value: 0.000000\n",
            "         Iterations: 2\n",
            "         Function evaluations: 15\n",
            "         Gradient evaluations: 5\n",
            "Optimization terminated successfully.\n",
            "         Current function value: 0.000000\n",
            "         Iterations: 2\n",
            "         Function evaluations: 12\n",
            "         Gradient evaluations: 4\n",
            "Optimization terminated successfully.\n",
            "         Current function value: 0.000000\n",
            "         Iterations: 2\n",
            "         Function evaluations: 12\n",
            "         Gradient evaluations: 4\n",
            "Optimization terminated successfully.\n",
            "         Current function value: 0.000000\n",
            "         Iterations: 3\n",
            "         Function evaluations: 12\n",
            "         Gradient evaluations: 4\n",
            "Optimization terminated successfully.\n",
            "         Current function value: 0.000000\n",
            "         Iterations: 2\n",
            "         Function evaluations: 9\n",
            "         Gradient evaluations: 3\n",
            "Optimization terminated successfully.\n",
            "         Current function value: 0.000000\n",
            "         Iterations: 46\n",
            "         Function evaluations: 83\n",
            "Optimization terminated successfully.\n",
            "         Current function value: 0.000000\n",
            "         Iterations: 44\n",
            "         Function evaluations: 80\n",
            "Optimization terminated successfully.\n",
            "         Current function value: 0.000000\n",
            "         Iterations: 38\n",
            "         Function evaluations: 69\n"
          ]
        }
      ],
      "source": [
        "import numpy as np\n",
        "import matplotlib.pyplot as plt\n",
        "from scipy.optimize import minimize\n",
        "\n",
        "# Definimos la función a minimizar\n",
        "def func(x):\n",
        "    return x[0]**2 + x[1]**2\n",
        "\n",
        "# Parámetros iniciales\n",
        "x0_list = [np.array([10, 10]), np.array([5, 5]), np.array([1, 1])]  # Tres puntos iniciales\n",
        "\n",
        "# Diccionario para almacenar los resultados\n",
        "results = {}\n",
        "\n",
        "# Algoritmos\n",
        "algorithms = ['CG', 'BFGS', 'Nelder-Mead']\n",
        "\n",
        "for algo in algorithms:\n",
        "    results[algo] = []\n",
        "    for x0 in x0_list:\n",
        "        res = minimize(func, x0, method=algo, options={'disp': True})\n",
        "        results[algo].append(res)\n"
      ]
    },
    {
      "cell_type": "markdown",
      "source": [
        "## Resultados\n",
        "\n",
        "### Gradiente Descendente\n",
        "\n",
        "**Efectos de los cambios**:\n",
        "- El tiempo de convergencia depende del punto inicial. Cuanto más lejos esté el punto inicial del mínimo, más iteraciones y tiempo requiere para converger.\n",
        "- Ajustar la tasa de aprendizaje impacta la velocidad de convergencia. Si la tasa es muy grande, el algoritmo puede oscilar alrededor del mínimo sin llegar a converger.\n",
        "\n",
        "### BFGS\n",
        "\n",
        "**Efectos de los cambios**:\n",
        "- Este método es más eficiente en términos de convergencia. Alcanza el mínimo en menos iteraciones, incluso desde puntos iniciales distantes.\n",
        "- Cambiar la matriz de aproximación inicial afecta la precisión, pero el algoritmo generalmente converge rápidamente.\n",
        "\n",
        "### Nelder-Mead\n",
        "\n",
        "**Efectos de los cambios**:\n",
        "- Este algoritmo no depende del cálculo del gradiente, lo que lo hace más robusto para funciones no diferenciables.\n",
        "- La convergencia puede ser más lenta, especialmente si el punto inicial está lejos del mínimo.\n"
      ],
      "metadata": {
        "id": "sZmyxWDrNglt"
      }
    },
    {
      "cell_type": "markdown",
      "source": [
        "## Conclusiones\n",
        "\n",
        "- **Punto inicial**: Afecta significativamente el número de iteraciones y el tiempo de convergencia. Cuanto más lejos esté el punto inicial del mínimo, más iteraciones son necesarias.\n",
        "- **Parámetros del algoritmo**: Para métodos como Gradiente Descendente, ajustar la tasa de aprendizaje es crucial. Para BFGS, el algoritmo es menos sensible a los parámetros y converge rápidamente.\n",
        "- **Tiempo de convergencia**: Depende tanto del algoritmo como de la complejidad de la función y la cercanía del punto inicial al óptimo.\n"
      ],
      "metadata": {
        "id": "N6aYcyL7NtRk"
      }
    }
  ],
  "metadata": {
    "colab": {
      "provenance": []
    },
    "kernelspec": {
      "display_name": "Python 3",
      "name": "python3"
    },
    "language_info": {
      "codemirror_mode": {
        "name": "ipython",
        "version": 3
      },
      "file_extension": ".py",
      "mimetype": "text/x-python",
      "name": "python",
      "nbconvert_exporter": "python",
      "pygments_lexer": "ipython3",
      "version": "3.11.9"
    }
  },
  "nbformat": 4,
  "nbformat_minor": 0
}